{
 "cells": [
  {
   "cell_type": "markdown",
   "metadata": {},
   "source": [
    "# Isotype chart"
   ]
  },
  {
   "cell_type": "markdown",
   "metadata": {},
   "source": [
    "Los datos usados en este notebook provienen del registro de animales domésticos por distritos de Madrid, que se pueden encontrar de forma pública en [este link](https://datos.madrid.es/portal/site/egob/menuitem.c05c1f754a33a9fbe4b2e4b284f1a5a0/?vgnextoid=3e573d68ae8a6410VgnVCM1000000b205a0aRCRD&vgnextchannel=374512b9ace9f310VgnVCM100000171f5a0aRCRD&vgnextfmt=default).\n",
    "\n",
    "Vamos a representar mediante un **isotype chart** el número de perros y gatos por cada distrito de Madrid."
   ]
  },
  {
   "cell_type": "markdown",
   "metadata": {},
   "source": [
    "### Carga de datos y ajuste de variables"
   ]
  },
  {
   "cell_type": "code",
   "execution_count": 1,
   "metadata": {},
   "outputs": [],
   "source": [
    "import pandas as pd\n",
    "data = pd.read_excel('datos/censo_animales.xlsx')"
   ]
  },
  {
   "cell_type": "markdown",
   "metadata": {},
   "source": [
    "Cambio el nombre a las columnas para mejorar su accesibilidad:"
   ]
  },
  {
   "cell_type": "code",
   "execution_count": 2,
   "metadata": {},
   "outputs": [],
   "source": [
    "data = data[[\"ESPECIE CANINA\", \"ESPECIE FELINA\", \"DISTRITO\"]].rename(columns={\"ESPECIE CANINA\": \"Perros\", \"ESPECIE FELINA\": \"Gatos\", \"DISTRITO\": \"Distrito\"})"
   ]
  },
  {
   "cell_type": "markdown",
   "metadata": {},
   "source": [
    "### Representación"
   ]
  },
  {
   "cell_type": "markdown",
   "metadata": {},
   "source": [
    "Para lograr un isotype, utilizo la librería altair. Tras realizar varias pruebas, he decidido que cada emoji de gato/perro representará 3000 mascotas del tipo concreto."
   ]
  },
  {
   "cell_type": "code",
   "execution_count": 3,
   "metadata": {},
   "outputs": [
    {
     "data": {
      "text/html": [
       "\n",
       "<style>\n",
       "  #altair-viz-4c51e7d5235546caba7f20bc5f39de2b.vega-embed {\n",
       "    width: 100%;\n",
       "    display: flex;\n",
       "  }\n",
       "\n",
       "  #altair-viz-4c51e7d5235546caba7f20bc5f39de2b.vega-embed details,\n",
       "  #altair-viz-4c51e7d5235546caba7f20bc5f39de2b.vega-embed details summary {\n",
       "    position: relative;\n",
       "  }\n",
       "</style>\n",
       "<div id=\"altair-viz-4c51e7d5235546caba7f20bc5f39de2b\"></div>\n",
       "<script type=\"text/javascript\">\n",
       "  var VEGA_DEBUG = (typeof VEGA_DEBUG == \"undefined\") ? {} : VEGA_DEBUG;\n",
       "  (function(spec, embedOpt){\n",
       "    let outputDiv = document.currentScript.previousElementSibling;\n",
       "    if (outputDiv.id !== \"altair-viz-4c51e7d5235546caba7f20bc5f39de2b\") {\n",
       "      outputDiv = document.getElementById(\"altair-viz-4c51e7d5235546caba7f20bc5f39de2b\");\n",
       "    }\n",
       "    const paths = {\n",
       "      \"vega\": \"https://cdn.jsdelivr.net/npm/vega@5?noext\",\n",
       "      \"vega-lib\": \"https://cdn.jsdelivr.net/npm/vega-lib?noext\",\n",
       "      \"vega-lite\": \"https://cdn.jsdelivr.net/npm/vega-lite@5.17.0?noext\",\n",
       "      \"vega-embed\": \"https://cdn.jsdelivr.net/npm/vega-embed@6?noext\",\n",
       "    };\n",
       "\n",
       "    function maybeLoadScript(lib, version) {\n",
       "      var key = `${lib.replace(\"-\", \"\")}_version`;\n",
       "      return (VEGA_DEBUG[key] == version) ?\n",
       "        Promise.resolve(paths[lib]) :\n",
       "        new Promise(function(resolve, reject) {\n",
       "          var s = document.createElement('script');\n",
       "          document.getElementsByTagName(\"head\")[0].appendChild(s);\n",
       "          s.async = true;\n",
       "          s.onload = () => {\n",
       "            VEGA_DEBUG[key] = version;\n",
       "            return resolve(paths[lib]);\n",
       "          };\n",
       "          s.onerror = () => reject(`Error loading script: ${paths[lib]}`);\n",
       "          s.src = paths[lib];\n",
       "        });\n",
       "    }\n",
       "\n",
       "    function showError(err) {\n",
       "      outputDiv.innerHTML = `<div class=\"error\" style=\"color:red;\">${err}</div>`;\n",
       "      throw err;\n",
       "    }\n",
       "\n",
       "    function displayChart(vegaEmbed) {\n",
       "      vegaEmbed(outputDiv, spec, embedOpt)\n",
       "        .catch(err => showError(`Javascript Error: ${err.message}<br>This usually means there's a typo in your chart specification. See the javascript console for the full traceback.`));\n",
       "    }\n",
       "\n",
       "    if(typeof define === \"function\" && define.amd) {\n",
       "      requirejs.config({paths});\n",
       "      require([\"vega-embed\"], displayChart, err => showError(`Error loading script: ${err.message}`));\n",
       "    } else {\n",
       "      maybeLoadScript(\"vega\", \"5\")\n",
       "        .then(() => maybeLoadScript(\"vega-lite\", \"5.17.0\"))\n",
       "        .then(() => maybeLoadScript(\"vega-embed\", \"6\"))\n",
       "        .catch(showError)\n",
       "        .then(() => displayChart(vegaEmbed));\n",
       "    }\n",
       "  })({\"config\": {\"view\": {\"continuousWidth\": 300, \"continuousHeight\": 300}, \"title\": {\"fontSize\": 14}}, \"layer\": [{\"data\": {\"name\": \"data-58a2cb8b789e9979d92a77783fe7e9d5\"}, \"mark\": {\"type\": \"text\", \"align\": \"left\", \"baseline\": \"middle\", \"dx\": -100, \"fontSize\": 20}, \"encoding\": {\"text\": {\"field\": \"Emojis\", \"type\": \"nominal\"}, \"y\": {\"field\": \"Distrito\", \"type\": \"nominal\"}}, \"title\": \"Isotype Chart: Perros y gatos por distrito\"}, {\"data\": {\"name\": \"data-bdb6ee98d834cff030b77d3cde3b158d\"}, \"mark\": {\"type\": \"text\", \"align\": \"left\", \"baseline\": \"middle\", \"fontSize\": 12}, \"encoding\": {\"text\": {\"field\": \"text\", \"type\": \"nominal\"}, \"x\": {\"value\": 100}, \"y\": {\"value\": 420}}}], \"height\": 400, \"width\": 200, \"$schema\": \"https://vega.github.io/schema/vega-lite/v5.17.0.json\", \"datasets\": {\"data-58a2cb8b789e9979d92a77783fe7e9d5\": [{\"Distrito\": \"ARGANZUELA\", \"Emojis\": \"\\ud83d\\udc36\\ud83d\\udc36\\ud83d\\udc36\"}, {\"Distrito\": \"BARAJAS\", \"Emojis\": \"\\ud83d\\udc36\"}, {\"Distrito\": \"CARABANCHEL\", \"Emojis\": \"\\ud83d\\udc36\\ud83d\\udc36\\ud83d\\udc36\\ud83d\\udc36\\ud83d\\udc36\\ud83d\\udc36\"}, {\"Distrito\": \"CENTRO\", \"Emojis\": \"\\ud83d\\udc36\\ud83d\\udc36\\ud83d\\udc36\\ud83d\\udc36\\ud83d\\udc36\"}, {\"Distrito\": \"CHAMART\\u00cdN\", \"Emojis\": \"\\ud83d\\udc36\\ud83d\\udc36\\ud83d\\udc36\"}, {\"Distrito\": \"CHAMBER\\u00cd\", \"Emojis\": \"\\ud83d\\udc36\\ud83d\\udc36\\ud83d\\udc36\\ud83d\\udc36\"}, {\"Distrito\": \"CIUDAD LINEAL\", \"Emojis\": \"\\ud83d\\udc36\\ud83d\\udc36\\ud83d\\udc36\\ud83d\\udc36\\ud83d\\udc36\"}, {\"Distrito\": \"FUENCARRAL-EL PARDO\", \"Emojis\": \"\\ud83d\\udc36\\ud83d\\udc36\\ud83d\\udc36\\ud83d\\udc36\\ud83d\\udc36\"}, {\"Distrito\": \"HORTALEZA\", \"Emojis\": \"\\ud83d\\udc36\\ud83d\\udc36\\ud83d\\udc36\\ud83d\\udc36\\ud83d\\udc36\"}, {\"Distrito\": \"LATINA\", \"Emojis\": \"\\ud83d\\udc36\\ud83d\\udc36\\ud83d\\udc36\\ud83d\\udc36\\ud83d\\udc36\\ud83d\\udc36\"}, {\"Distrito\": \"MONCLOA-ARAVACA\", \"Emojis\": \"\\ud83d\\udc36\\ud83d\\udc36\\ud83d\\udc36\\ud83d\\udc36\"}, {\"Distrito\": \"MORATALAZ\", \"Emojis\": \"\\ud83d\\udc36\\ud83d\\udc36\"}, {\"Distrito\": \"PUENTE DE VALLECAS\", \"Emojis\": \"\\ud83d\\udc36\\ud83d\\udc36\\ud83d\\udc36\\ud83d\\udc36\\ud83d\\udc36\\ud83d\\udc36\\ud83d\\udc36\"}, {\"Distrito\": \"RETIRO\", \"Emojis\": \"\\ud83d\\udc36\\ud83d\\udc36\"}, {\"Distrito\": \"SALAMANCA\", \"Emojis\": \"\\ud83d\\udc36\\ud83d\\udc36\\ud83d\\udc36\\ud83d\\udc36\"}, {\"Distrito\": \"SAN BLAS\", \"Emojis\": \"\\ud83d\\udc36\\ud83d\\udc36\\ud83d\\udc36\\ud83d\\udc36\"}, {\"Distrito\": \"TETU\\u00c1N\", \"Emojis\": \"\\ud83d\\udc36\\ud83d\\udc36\\ud83d\\udc36\\ud83d\\udc36\"}, {\"Distrito\": \"USERA\", \"Emojis\": \"\\ud83d\\udc36\\ud83d\\udc36\\ud83d\\udc36\\ud83d\\udc36\"}, {\"Distrito\": \"VIC\\u00c1LVARO\", \"Emojis\": \"\\ud83d\\udc36\"}, {\"Distrito\": \"VILLA DE VALLECAS\", \"Emojis\": \"\\ud83d\\udc36\\ud83d\\udc36\\ud83d\\udc36\"}, {\"Distrito\": \"VILLAVERDE\", \"Emojis\": \"\\ud83d\\udc36\\ud83d\\udc36\\ud83d\\udc36\\ud83d\\udc36\"}, {\"Distrito\": \"ARGANZUELA\", \"Emojis\": \"\\ud83d\\udc36\\ud83d\\udc36\\ud83d\\udc36\"}, {\"Distrito\": \"BARAJAS\", \"Emojis\": \"\\ud83d\\udc36\"}, {\"Distrito\": \"CARABANCHEL\", \"Emojis\": \"\\ud83d\\udc36\\ud83d\\udc36\\ud83d\\udc36\\ud83d\\udc36\\ud83d\\udc36\\ud83d\\udc36\"}, {\"Distrito\": \"CENTRO\", \"Emojis\": \"\\ud83d\\udc36\\ud83d\\udc36\\ud83d\\udc36\\ud83d\\udc36\\ud83d\\udc36\"}, {\"Distrito\": \"CHAMART\\u00cdN\", \"Emojis\": \"\\ud83d\\udc36\\ud83d\\udc36\\ud83d\\udc36\"}, {\"Distrito\": \"CHAMBER\\u00cd\", \"Emojis\": \"\\ud83d\\udc36\\ud83d\\udc36\\ud83d\\udc36\\ud83d\\udc36\"}, {\"Distrito\": \"CIUDAD LINEAL\", \"Emojis\": \"\\ud83d\\udc36\\ud83d\\udc36\\ud83d\\udc36\\ud83d\\udc36\\ud83d\\udc36\"}, {\"Distrito\": \"FUENCARRAL-EL PARDO\", \"Emojis\": \"\\ud83d\\udc36\\ud83d\\udc36\\ud83d\\udc36\\ud83d\\udc36\\ud83d\\udc36\"}, {\"Distrito\": \"HORTALEZA\", \"Emojis\": \"\\ud83d\\udc36\\ud83d\\udc36\\ud83d\\udc36\\ud83d\\udc36\\ud83d\\udc36\"}, {\"Distrito\": \"LATINA\", \"Emojis\": \"\\ud83d\\udc36\\ud83d\\udc36\\ud83d\\udc36\\ud83d\\udc36\\ud83d\\udc36\\ud83d\\udc36\"}, {\"Distrito\": \"MONCLOA-ARAVACA\", \"Emojis\": \"\\ud83d\\udc36\\ud83d\\udc36\\ud83d\\udc36\\ud83d\\udc36\"}, {\"Distrito\": \"MORATALAZ\", \"Emojis\": \"\\ud83d\\udc36\\ud83d\\udc36\"}, {\"Distrito\": \"PUENTE DE VALLECAS\", \"Emojis\": \"\\ud83d\\udc36\\ud83d\\udc36\\ud83d\\udc36\\ud83d\\udc36\\ud83d\\udc36\\ud83d\\udc36\\ud83d\\udc36\"}, {\"Distrito\": \"RETIRO\", \"Emojis\": \"\\ud83d\\udc36\\ud83d\\udc36\"}, {\"Distrito\": \"SALAMANCA\", \"Emojis\": \"\\ud83d\\udc36\\ud83d\\udc36\\ud83d\\udc36\\ud83d\\udc36\"}, {\"Distrito\": \"SAN BLAS\", \"Emojis\": \"\\ud83d\\udc36\\ud83d\\udc36\\ud83d\\udc36\\ud83d\\udc36\"}, {\"Distrito\": \"TETU\\u00c1N\", \"Emojis\": \"\\ud83d\\udc36\\ud83d\\udc36\\ud83d\\udc36\\ud83d\\udc36\"}, {\"Distrito\": \"USERA\", \"Emojis\": \"\\ud83d\\udc36\\ud83d\\udc36\\ud83d\\udc36\\ud83d\\udc36\"}, {\"Distrito\": \"VIC\\u00c1LVARO\", \"Emojis\": \"\\ud83d\\udc36\"}, {\"Distrito\": \"VILLA DE VALLECAS\", \"Emojis\": \"\\ud83d\\udc36\\ud83d\\udc36\\ud83d\\udc36\"}, {\"Distrito\": \"VILLAVERDE\", \"Emojis\": \"\\ud83d\\udc36\\ud83d\\udc36\\ud83d\\udc36\\ud83d\\udc36\"}, {\"Distrito\": \"ARGANZUELA\", \"Emojis\": \"\\ud83d\\udc36\\ud83d\\udc36\\ud83d\\udc36\"}, {\"Distrito\": \"BARAJAS\", \"Emojis\": \"\\ud83d\\udc36\"}, {\"Distrito\": \"CARABANCHEL\", \"Emojis\": \"\\ud83d\\udc36\\ud83d\\udc36\\ud83d\\udc36\\ud83d\\udc36\\ud83d\\udc36\\ud83d\\udc36\"}, {\"Distrito\": \"CENTRO\", \"Emojis\": \"\\ud83d\\udc36\\ud83d\\udc36\\ud83d\\udc36\\ud83d\\udc36\\ud83d\\udc36\"}, {\"Distrito\": \"CHAMART\\u00cdN\", \"Emojis\": \"\\ud83d\\udc36\\ud83d\\udc36\\ud83d\\udc36\"}, {\"Distrito\": \"CHAMBER\\u00cd\", \"Emojis\": \"\\ud83d\\udc36\\ud83d\\udc36\\ud83d\\udc36\\ud83d\\udc36\"}, {\"Distrito\": \"CIUDAD LINEAL\", \"Emojis\": \"\\ud83d\\udc36\\ud83d\\udc36\\ud83d\\udc36\\ud83d\\udc36\\ud83d\\udc36\"}, {\"Distrito\": \"FUENCARRAL-EL PARDO\", \"Emojis\": \"\\ud83d\\udc36\\ud83d\\udc36\\ud83d\\udc36\\ud83d\\udc36\\ud83d\\udc36\"}, {\"Distrito\": \"HORTALEZA\", \"Emojis\": \"\\ud83d\\udc36\\ud83d\\udc36\\ud83d\\udc36\\ud83d\\udc36\\ud83d\\udc36\"}, {\"Distrito\": \"LATINA\", \"Emojis\": \"\\ud83d\\udc36\\ud83d\\udc36\\ud83d\\udc36\\ud83d\\udc36\\ud83d\\udc36\\ud83d\\udc36\"}, {\"Distrito\": \"MONCLOA-ARAVACA\", \"Emojis\": \"\\ud83d\\udc36\\ud83d\\udc36\\ud83d\\udc36\\ud83d\\udc36\"}, {\"Distrito\": \"MORATALAZ\", \"Emojis\": \"\\ud83d\\udc36\\ud83d\\udc36\"}, {\"Distrito\": \"PUENTE DE VALLECAS\", \"Emojis\": \"\\ud83d\\udc36\\ud83d\\udc36\\ud83d\\udc36\\ud83d\\udc36\\ud83d\\udc36\\ud83d\\udc36\\ud83d\\udc36\"}, {\"Distrito\": \"RETIRO\", \"Emojis\": \"\\ud83d\\udc36\\ud83d\\udc36\"}, {\"Distrito\": \"SALAMANCA\", \"Emojis\": \"\\ud83d\\udc36\\ud83d\\udc36\\ud83d\\udc36\\ud83d\\udc36\"}, {\"Distrito\": \"SAN BLAS\", \"Emojis\": \"\\ud83d\\udc36\\ud83d\\udc36\\ud83d\\udc36\\ud83d\\udc36\"}, {\"Distrito\": \"TETU\\u00c1N\", \"Emojis\": \"\\ud83d\\udc36\\ud83d\\udc36\\ud83d\\udc36\\ud83d\\udc36\"}, {\"Distrito\": \"USERA\", \"Emojis\": \"\\ud83d\\udc36\\ud83d\\udc36\\ud83d\\udc36\\ud83d\\udc36\"}, {\"Distrito\": \"VIC\\u00c1LVARO\", \"Emojis\": \"\\ud83d\\udc36\"}, {\"Distrito\": \"VILLA DE VALLECAS\", \"Emojis\": \"\\ud83d\\udc36\\ud83d\\udc36\\ud83d\\udc36\"}, {\"Distrito\": \"VILLAVERDE\", \"Emojis\": \"\\ud83d\\udc36\\ud83d\\udc36\\ud83d\\udc36\\ud83d\\udc36\"}, {\"Distrito\": \"ARGANZUELA\", \"Emojis\": \"\\ud83d\\udc36\\ud83d\\udc36\\ud83d\\udc36\"}, {\"Distrito\": \"BARAJAS\", \"Emojis\": \"\\ud83d\\udc36\"}, {\"Distrito\": \"CARABANCHEL\", \"Emojis\": \"\\ud83d\\udc36\\ud83d\\udc36\\ud83d\\udc36\\ud83d\\udc36\\ud83d\\udc36\\ud83d\\udc36\"}, {\"Distrito\": \"CENTRO\", \"Emojis\": \"\\ud83d\\udc36\\ud83d\\udc36\\ud83d\\udc36\\ud83d\\udc36\\ud83d\\udc36\"}, {\"Distrito\": \"CHAMART\\u00cdN\", \"Emojis\": \"\\ud83d\\udc36\\ud83d\\udc36\\ud83d\\udc36\"}, {\"Distrito\": \"CHAMBER\\u00cd\", \"Emojis\": \"\\ud83d\\udc36\\ud83d\\udc36\\ud83d\\udc36\\ud83d\\udc36\"}, {\"Distrito\": \"CIUDAD LINEAL\", \"Emojis\": \"\\ud83d\\udc36\\ud83d\\udc36\\ud83d\\udc36\\ud83d\\udc36\\ud83d\\udc36\"}, {\"Distrito\": \"FUENCARRAL-EL PARDO\", \"Emojis\": \"\\ud83d\\udc36\\ud83d\\udc36\\ud83d\\udc36\\ud83d\\udc36\\ud83d\\udc36\"}, {\"Distrito\": \"HORTALEZA\", \"Emojis\": \"\\ud83d\\udc36\\ud83d\\udc36\\ud83d\\udc36\\ud83d\\udc36\\ud83d\\udc36\"}, {\"Distrito\": \"LATINA\", \"Emojis\": \"\\ud83d\\udc36\\ud83d\\udc36\\ud83d\\udc36\\ud83d\\udc36\\ud83d\\udc36\\ud83d\\udc36\"}, {\"Distrito\": \"MONCLOA-ARAVACA\", \"Emojis\": \"\\ud83d\\udc36\\ud83d\\udc36\\ud83d\\udc36\\ud83d\\udc36\"}, {\"Distrito\": \"MORATALAZ\", \"Emojis\": \"\\ud83d\\udc36\\ud83d\\udc36\"}, {\"Distrito\": \"PUENTE DE VALLECAS\", \"Emojis\": \"\\ud83d\\udc36\\ud83d\\udc36\\ud83d\\udc36\\ud83d\\udc36\\ud83d\\udc36\\ud83d\\udc36\\ud83d\\udc36\"}, {\"Distrito\": \"RETIRO\", \"Emojis\": \"\\ud83d\\udc36\\ud83d\\udc36\"}, {\"Distrito\": \"SALAMANCA\", \"Emojis\": \"\\ud83d\\udc36\\ud83d\\udc36\\ud83d\\udc36\\ud83d\\udc36\"}, {\"Distrito\": \"SAN BLAS\", \"Emojis\": \"\\ud83d\\udc36\\ud83d\\udc36\\ud83d\\udc36\\ud83d\\udc36\"}, {\"Distrito\": \"TETU\\u00c1N\", \"Emojis\": \"\\ud83d\\udc36\\ud83d\\udc36\\ud83d\\udc36\\ud83d\\udc36\"}, {\"Distrito\": \"USERA\", \"Emojis\": \"\\ud83d\\udc36\\ud83d\\udc36\\ud83d\\udc36\\ud83d\\udc36\"}, {\"Distrito\": \"VIC\\u00c1LVARO\", \"Emojis\": \"\\ud83d\\udc36\"}, {\"Distrito\": \"VILLA DE VALLECAS\", \"Emojis\": \"\\ud83d\\udc36\\ud83d\\udc36\\ud83d\\udc36\"}, {\"Distrito\": \"VILLAVERDE\", \"Emojis\": \"\\ud83d\\udc36\\ud83d\\udc36\\ud83d\\udc36\\ud83d\\udc36\"}, {\"Distrito\": \"ARGANZUELA\", \"Emojis\": \"\\ud83d\\udc36\\ud83d\\udc36\\ud83d\\udc36\"}, {\"Distrito\": \"BARAJAS\", \"Emojis\": \"\\ud83d\\udc36\"}, {\"Distrito\": \"CARABANCHEL\", \"Emojis\": \"\\ud83d\\udc36\\ud83d\\udc36\\ud83d\\udc36\\ud83d\\udc36\\ud83d\\udc36\\ud83d\\udc36\"}, {\"Distrito\": \"CENTRO\", \"Emojis\": \"\\ud83d\\udc36\\ud83d\\udc36\\ud83d\\udc36\\ud83d\\udc36\\ud83d\\udc36\"}, {\"Distrito\": \"CHAMART\\u00cdN\", \"Emojis\": \"\\ud83d\\udc36\\ud83d\\udc36\\ud83d\\udc36\"}, {\"Distrito\": \"CHAMBER\\u00cd\", \"Emojis\": \"\\ud83d\\udc36\\ud83d\\udc36\\ud83d\\udc36\\ud83d\\udc36\"}, {\"Distrito\": \"CIUDAD LINEAL\", \"Emojis\": \"\\ud83d\\udc36\\ud83d\\udc36\\ud83d\\udc36\\ud83d\\udc36\\ud83d\\udc36\"}, {\"Distrito\": \"FUENCARRAL-EL PARDO\", \"Emojis\": \"\\ud83d\\udc36\\ud83d\\udc36\\ud83d\\udc36\\ud83d\\udc36\\ud83d\\udc36\"}, {\"Distrito\": \"HORTALEZA\", \"Emojis\": \"\\ud83d\\udc36\\ud83d\\udc36\\ud83d\\udc36\\ud83d\\udc36\\ud83d\\udc36\"}, {\"Distrito\": \"LATINA\", \"Emojis\": \"\\ud83d\\udc36\\ud83d\\udc36\\ud83d\\udc36\\ud83d\\udc36\\ud83d\\udc36\\ud83d\\udc36\"}, {\"Distrito\": \"MONCLOA-ARAVACA\", \"Emojis\": \"\\ud83d\\udc36\\ud83d\\udc36\\ud83d\\udc36\\ud83d\\udc36\"}, {\"Distrito\": \"MORATALAZ\", \"Emojis\": \"\\ud83d\\udc36\\ud83d\\udc36\"}, {\"Distrito\": \"PUENTE DE VALLECAS\", \"Emojis\": \"\\ud83d\\udc36\\ud83d\\udc36\\ud83d\\udc36\\ud83d\\udc36\\ud83d\\udc36\\ud83d\\udc36\\ud83d\\udc36\"}, {\"Distrito\": \"RETIRO\", \"Emojis\": \"\\ud83d\\udc36\\ud83d\\udc36\"}, {\"Distrito\": \"SALAMANCA\", \"Emojis\": \"\\ud83d\\udc36\\ud83d\\udc36\\ud83d\\udc36\\ud83d\\udc36\"}, {\"Distrito\": \"SAN BLAS\", \"Emojis\": \"\\ud83d\\udc36\\ud83d\\udc36\\ud83d\\udc36\\ud83d\\udc36\"}, {\"Distrito\": \"TETU\\u00c1N\", \"Emojis\": \"\\ud83d\\udc36\\ud83d\\udc36\\ud83d\\udc36\\ud83d\\udc36\"}, {\"Distrito\": \"USERA\", \"Emojis\": \"\\ud83d\\udc36\\ud83d\\udc36\\ud83d\\udc36\\ud83d\\udc36\"}, {\"Distrito\": \"VIC\\u00c1LVARO\", \"Emojis\": \"\\ud83d\\udc36\"}, {\"Distrito\": \"VILLA DE VALLECAS\", \"Emojis\": \"\\ud83d\\udc36\\ud83d\\udc36\\ud83d\\udc36\"}, {\"Distrito\": \"VILLAVERDE\", \"Emojis\": \"\\ud83d\\udc36\\ud83d\\udc36\\ud83d\\udc36\\ud83d\\udc36\"}, {\"Distrito\": \"ARGANZUELA\", \"Emojis\": \"\\ud83d\\udc36\\ud83d\\udc36\\ud83d\\udc36\"}, {\"Distrito\": \"BARAJAS\", \"Emojis\": \"\\ud83d\\udc36\"}, {\"Distrito\": \"CARABANCHEL\", \"Emojis\": \"\\ud83d\\udc36\\ud83d\\udc36\\ud83d\\udc36\\ud83d\\udc36\\ud83d\\udc36\\ud83d\\udc36\"}, {\"Distrito\": \"CENTRO\", \"Emojis\": \"\\ud83d\\udc36\\ud83d\\udc36\\ud83d\\udc36\\ud83d\\udc36\\ud83d\\udc36\"}, {\"Distrito\": \"CHAMART\\u00cdN\", \"Emojis\": \"\\ud83d\\udc36\\ud83d\\udc36\\ud83d\\udc36\"}, {\"Distrito\": \"CHAMBER\\u00cd\", \"Emojis\": \"\\ud83d\\udc36\\ud83d\\udc36\\ud83d\\udc36\\ud83d\\udc36\"}, {\"Distrito\": \"CIUDAD LINEAL\", \"Emojis\": \"\\ud83d\\udc36\\ud83d\\udc36\\ud83d\\udc36\\ud83d\\udc36\\ud83d\\udc36\"}, {\"Distrito\": \"FUENCARRAL-EL PARDO\", \"Emojis\": \"\\ud83d\\udc36\\ud83d\\udc36\\ud83d\\udc36\\ud83d\\udc36\\ud83d\\udc36\\ud83d\\udc36\"}, {\"Distrito\": \"HORTALEZA\", \"Emojis\": \"\\ud83d\\udc36\\ud83d\\udc36\\ud83d\\udc36\\ud83d\\udc36\\ud83d\\udc36\"}, {\"Distrito\": \"LATINA\", \"Emojis\": \"\\ud83d\\udc36\\ud83d\\udc36\\ud83d\\udc36\\ud83d\\udc36\\ud83d\\udc36\\ud83d\\udc36\"}, {\"Distrito\": \"MONCLOA-ARAVACA\", \"Emojis\": \"\\ud83d\\udc36\\ud83d\\udc36\\ud83d\\udc36\\ud83d\\udc36\"}, {\"Distrito\": \"MORATALAZ\", \"Emojis\": \"\\ud83d\\udc36\\ud83d\\udc36\"}, {\"Distrito\": \"PUENTE DE VALLECAS\", \"Emojis\": \"\\ud83d\\udc36\\ud83d\\udc36\\ud83d\\udc36\\ud83d\\udc36\\ud83d\\udc36\\ud83d\\udc36\\ud83d\\udc36\"}, {\"Distrito\": \"RETIRO\", \"Emojis\": \"\\ud83d\\udc36\\ud83d\\udc36\"}, {\"Distrito\": \"SALAMANCA\", \"Emojis\": \"\\ud83d\\udc36\\ud83d\\udc36\\ud83d\\udc36\\ud83d\\udc36\"}, {\"Distrito\": \"SAN BLAS\", \"Emojis\": \"\\ud83d\\udc36\\ud83d\\udc36\\ud83d\\udc36\\ud83d\\udc36\"}, {\"Distrito\": \"TETU\\u00c1N\", \"Emojis\": \"\\ud83d\\udc36\\ud83d\\udc36\\ud83d\\udc36\\ud83d\\udc36\"}, {\"Distrito\": \"USERA\", \"Emojis\": \"\\ud83d\\udc36\\ud83d\\udc36\\ud83d\\udc36\\ud83d\\udc36\"}, {\"Distrito\": \"VIC\\u00c1LVARO\", \"Emojis\": \"\\ud83d\\udc36\"}, {\"Distrito\": \"VILLA DE VALLECAS\", \"Emojis\": \"\\ud83d\\udc36\\ud83d\\udc36\\ud83d\\udc36\"}, {\"Distrito\": \"VILLAVERDE\", \"Emojis\": \"\\ud83d\\udc36\\ud83d\\udc36\\ud83d\\udc36\\ud83d\\udc36\"}, {\"Distrito\": \"ARGANZUELA\", \"Emojis\": \"\\ud83d\\udc36\\ud83d\\udc36\\ud83d\\udc36\"}, {\"Distrito\": \"BARAJAS\", \"Emojis\": \"\\ud83d\\udc36\"}, {\"Distrito\": \"CARABANCHEL\", \"Emojis\": \"\\ud83d\\udc36\\ud83d\\udc36\\ud83d\\udc36\\ud83d\\udc36\\ud83d\\udc36\\ud83d\\udc36\"}, {\"Distrito\": \"CENTRO\", \"Emojis\": \"\\ud83d\\udc36\\ud83d\\udc36\\ud83d\\udc36\\ud83d\\udc36\\ud83d\\udc36\"}, {\"Distrito\": \"CHAMART\\u00cdN\", \"Emojis\": \"\\ud83d\\udc36\\ud83d\\udc36\\ud83d\\udc36\"}, {\"Distrito\": \"CHAMBER\\u00cd\", \"Emojis\": \"\\ud83d\\udc36\\ud83d\\udc36\\ud83d\\udc36\\ud83d\\udc36\"}, {\"Distrito\": \"CIUDAD LINEAL\", \"Emojis\": \"\\ud83d\\udc36\\ud83d\\udc36\\ud83d\\udc36\\ud83d\\udc36\\ud83d\\udc36\"}, {\"Distrito\": \"FUENCARRAL-EL PARDO\", \"Emojis\": \"\\ud83d\\udc36\\ud83d\\udc36\\ud83d\\udc36\\ud83d\\udc36\\ud83d\\udc36\"}, {\"Distrito\": \"HORTALEZA\", \"Emojis\": \"\\ud83d\\udc36\\ud83d\\udc36\\ud83d\\udc36\\ud83d\\udc36\\ud83d\\udc36\"}, {\"Distrito\": \"LATINA\", \"Emojis\": \"\\ud83d\\udc36\\ud83d\\udc36\\ud83d\\udc36\\ud83d\\udc36\\ud83d\\udc36\\ud83d\\udc36\"}, {\"Distrito\": \"MONCLOA-ARAVACA\", \"Emojis\": \"\\ud83d\\udc36\\ud83d\\udc36\\ud83d\\udc36\\ud83d\\udc36\"}, {\"Distrito\": \"MORATALAZ\", \"Emojis\": \"\\ud83d\\udc36\\ud83d\\udc36\"}, {\"Distrito\": \"PUENTE DE VALLECAS\", \"Emojis\": \"\\ud83d\\udc36\\ud83d\\udc36\\ud83d\\udc36\\ud83d\\udc36\\ud83d\\udc36\\ud83d\\udc36\\ud83d\\udc36\"}, {\"Distrito\": \"RETIRO\", \"Emojis\": \"\\ud83d\\udc36\\ud83d\\udc36\"}, {\"Distrito\": \"SALAMANCA\", \"Emojis\": \"\\ud83d\\udc36\\ud83d\\udc36\\ud83d\\udc36\\ud83d\\udc36\"}, {\"Distrito\": \"SAN BLAS\", \"Emojis\": \"\\ud83d\\udc36\\ud83d\\udc36\\ud83d\\udc36\\ud83d\\udc36\"}, {\"Distrito\": \"TETU\\u00c1N\", \"Emojis\": \"\\ud83d\\udc36\\ud83d\\udc36\\ud83d\\udc36\\ud83d\\udc36\"}, {\"Distrito\": \"USERA\", \"Emojis\": \"\\ud83d\\udc36\\ud83d\\udc36\\ud83d\\udc36\\ud83d\\udc36\"}, {\"Distrito\": \"VIC\\u00c1LVARO\", \"Emojis\": \"\\ud83d\\udc36\"}, {\"Distrito\": \"VILLA DE VALLECAS\", \"Emojis\": \"\\ud83d\\udc36\\ud83d\\udc36\\ud83d\\udc36\"}, {\"Distrito\": \"VILLAVERDE\", \"Emojis\": \"\\ud83d\\udc36\\ud83d\\udc36\\ud83d\\udc36\"}, {\"Distrito\": \"ARGANZUELA\", \"Emojis\": \"\\ud83d\\udc36\\ud83d\\udc36\\ud83d\\udc36\"}, {\"Distrito\": \"BARAJAS\", \"Emojis\": \"\\ud83d\\udc36\"}, {\"Distrito\": \"CARABANCHEL\", \"Emojis\": \"\\ud83d\\udc36\\ud83d\\udc36\\ud83d\\udc36\\ud83d\\udc36\\ud83d\\udc36\\ud83d\\udc36\"}, {\"Distrito\": \"CENTRO\", \"Emojis\": \"\\ud83d\\udc36\\ud83d\\udc36\\ud83d\\udc36\\ud83d\\udc36\"}, {\"Distrito\": \"CHAMART\\u00cdN\", \"Emojis\": \"\\ud83d\\udc36\\ud83d\\udc36\\ud83d\\udc36\\ud83d\\udc36\"}, {\"Distrito\": \"CHAMBER\\u00cd\", \"Emojis\": \"\\ud83d\\udc36\\ud83d\\udc36\\ud83d\\udc36\\ud83d\\udc36\"}, {\"Distrito\": \"CIUDAD LINEAL\", \"Emojis\": \"\\ud83d\\udc36\\ud83d\\udc36\\ud83d\\udc36\\ud83d\\udc36\\ud83d\\udc36\"}, {\"Distrito\": \"FUENCARRAL-EL PARDO\", \"Emojis\": \"\\ud83d\\udc36\\ud83d\\udc36\\ud83d\\udc36\\ud83d\\udc36\\ud83d\\udc36\\ud83d\\udc36\"}, {\"Distrito\": \"HORTALEZA\", \"Emojis\": \"\\ud83d\\udc36\\ud83d\\udc36\\ud83d\\udc36\\ud83d\\udc36\\ud83d\\udc36\"}, {\"Distrito\": \"LATINA\", \"Emojis\": \"\\ud83d\\udc36\\ud83d\\udc36\\ud83d\\udc36\\ud83d\\udc36\\ud83d\\udc36\\ud83d\\udc36\"}, {\"Distrito\": \"MONCLOA-ARAVACA\", \"Emojis\": \"\\ud83d\\udc36\\ud83d\\udc36\\ud83d\\udc36\\ud83d\\udc36\"}, {\"Distrito\": \"MORATALAZ\", \"Emojis\": \"\\ud83d\\udc36\\ud83d\\udc36\"}, {\"Distrito\": \"PUENTE DE VALLECAS\", \"Emojis\": \"\\ud83d\\udc36\\ud83d\\udc36\\ud83d\\udc36\\ud83d\\udc36\\ud83d\\udc36\\ud83d\\udc36\\ud83d\\udc36\"}, {\"Distrito\": \"RETIRO\", \"Emojis\": \"\\ud83d\\udc36\\ud83d\\udc36\"}, {\"Distrito\": \"SALAMANCA\", \"Emojis\": \"\\ud83d\\udc36\\ud83d\\udc36\\ud83d\\udc36\\ud83d\\udc36\"}, {\"Distrito\": \"SAN BLAS\", \"Emojis\": \"\\ud83d\\udc36\\ud83d\\udc36\\ud83d\\udc36\\ud83d\\udc36\"}, {\"Distrito\": \"TETU\\u00c1N\", \"Emojis\": \"\\ud83d\\udc36\\ud83d\\udc36\\ud83d\\udc36\\ud83d\\udc36\"}, {\"Distrito\": \"USERA\", \"Emojis\": \"\\ud83d\\udc36\\ud83d\\udc36\\ud83d\\udc36\"}, {\"Distrito\": \"VIC\\u00c1LVARO\", \"Emojis\": \"\\ud83d\\udc36\"}, {\"Distrito\": \"VILLA DE VALLECAS\", \"Emojis\": \"\\ud83d\\udc36\\ud83d\\udc36\"}, {\"Distrito\": \"VILLAVERDE\", \"Emojis\": \"\\ud83d\\udc36\\ud83d\\udc36\\ud83d\\udc36\"}, {\"Distrito\": \"ARGANZUELA\", \"Emojis\": \"\\ud83d\\udc36\\ud83d\\udc36\\ud83d\\udc36\"}, {\"Distrito\": \"BARAJAS\", \"Emojis\": \"\\ud83d\\udc36\"}, {\"Distrito\": \"CARABANCHEL\", \"Emojis\": \"\\ud83d\\udc36\\ud83d\\udc36\\ud83d\\udc36\\ud83d\\udc36\\ud83d\\udc36\"}, {\"Distrito\": \"CENTRO\", \"Emojis\": \"\\ud83d\\udc36\\ud83d\\udc36\\ud83d\\udc36\\ud83d\\udc36\"}, {\"Distrito\": \"CHAMART\\u00cdN\", \"Emojis\": \"\\ud83d\\udc36\\ud83d\\udc36\\ud83d\\udc36\\ud83d\\udc36\"}, {\"Distrito\": \"CHAMBER\\u00cd\", \"Emojis\": \"\\ud83d\\udc36\\ud83d\\udc36\\ud83d\\udc36\\ud83d\\udc36\"}, {\"Distrito\": \"CIUDAD LINEAL\", \"Emojis\": \"\\ud83d\\udc36\\ud83d\\udc36\\ud83d\\udc36\\ud83d\\udc36\\ud83d\\udc36\"}, {\"Distrito\": \"FUENCARRAL EL PARDO\", \"Emojis\": \"\\ud83d\\udc36\\ud83d\\udc36\\ud83d\\udc36\\ud83d\\udc36\\ud83d\\udc36\\ud83d\\udc36\"}, {\"Distrito\": \"HORTALEZA\", \"Emojis\": \"\\ud83d\\udc36\\ud83d\\udc36\\ud83d\\udc36\\ud83d\\udc36\\ud83d\\udc36\"}, {\"Distrito\": \"LATINA\", \"Emojis\": \"\\ud83d\\udc36\\ud83d\\udc36\\ud83d\\udc36\\ud83d\\udc36\\ud83d\\udc36\\ud83d\\udc36\"}, {\"Distrito\": \"MONCLOA-ARAVACA\", \"Emojis\": \"\\ud83d\\udc36\\ud83d\\udc36\\ud83d\\udc36\\ud83d\\udc36\"}, {\"Distrito\": \"MORATALAZ\", \"Emojis\": \"\\ud83d\\udc36\\ud83d\\udc36\"}, {\"Distrito\": \"PUENTE DE VALLECAS\", \"Emojis\": \"\\ud83d\\udc36\\ud83d\\udc36\\ud83d\\udc36\\ud83d\\udc36\\ud83d\\udc36\\ud83d\\udc36\\ud83d\\udc36\"}, {\"Distrito\": \"RETIRO\", \"Emojis\": \"\\ud83d\\udc36\\ud83d\\udc36\"}, {\"Distrito\": \"SALAMANCA\", \"Emojis\": \"\\ud83d\\udc36\\ud83d\\udc36\\ud83d\\udc36\\ud83d\\udc36\"}, {\"Distrito\": \"SAN BLAS\", \"Emojis\": \"\\ud83d\\udc36\\ud83d\\udc36\\ud83d\\udc36\\ud83d\\udc36\"}, {\"Distrito\": \"TETU\\u00c1N\", \"Emojis\": \"\\ud83d\\udc36\\ud83d\\udc36\\ud83d\\udc36\\ud83d\\udc36\"}, {\"Distrito\": \"USERA\", \"Emojis\": \"\\ud83d\\udc36\\ud83d\\udc36\\ud83d\\udc36\"}, {\"Distrito\": \"VIC\\u00c1LVARO\", \"Emojis\": \"\\ud83d\\udc36\"}, {\"Distrito\": \"VILLA DE VALLECAS\", \"Emojis\": \"\\ud83d\\udc36\\ud83d\\udc36\"}, {\"Distrito\": \"VILLAVERDE\", \"Emojis\": \"\\ud83d\\udc36\\ud83d\\udc36\\ud83d\\udc36\"}, {\"Distrito\": \"ARGANZUELA\", \"Emojis\": \"\\ud83d\\udc31\"}, {\"Distrito\": \"BARAJAS\", \"Emojis\": \"\"}, {\"Distrito\": \"CARABANCHEL\", \"Emojis\": \"\\ud83d\\udc31\\ud83d\\udc31\"}, {\"Distrito\": \"CENTRO\", \"Emojis\": \"\\ud83d\\udc31\\ud83d\\udc31\\ud83d\\udc31\"}, {\"Distrito\": \"CHAMART\\u00cdN\", \"Emojis\": \"\\ud83d\\udc31\"}, {\"Distrito\": \"CHAMBER\\u00cd\", \"Emojis\": \"\\ud83d\\udc31\"}, {\"Distrito\": \"CIUDAD LINEAL\", \"Emojis\": \"\\ud83d\\udc31\\ud83d\\udc31\\ud83d\\udc31\"}, {\"Distrito\": \"FUENCARRAL-EL PARDO\", \"Emojis\": \"\\ud83d\\udc31\\ud83d\\udc31\"}, {\"Distrito\": \"HORTALEZA\", \"Emojis\": \"\\ud83d\\udc31\\ud83d\\udc31\\ud83d\\udc31\"}, {\"Distrito\": \"LATINA\", \"Emojis\": \"\\ud83d\\udc31\\ud83d\\udc31\\ud83d\\udc31\\ud83d\\udc31\"}, {\"Distrito\": \"MONCLOA-ARAVACA\", \"Emojis\": \"\\ud83d\\udc31\"}, {\"Distrito\": \"MORATALAZ\", \"Emojis\": \"\\ud83d\\udc31\"}, {\"Distrito\": \"PUENTE DE VALLECAS\", \"Emojis\": \"\\ud83d\\udc31\\ud83d\\udc31\"}, {\"Distrito\": \"RETIRO\", \"Emojis\": \"\\ud83d\\udc31\"}, {\"Distrito\": \"SALAMANCA\", \"Emojis\": \"\\ud83d\\udc31\"}, {\"Distrito\": \"SAN BLAS\", \"Emojis\": \"\\ud83d\\udc31\"}, {\"Distrito\": \"TETU\\u00c1N\", \"Emojis\": \"\\ud83d\\udc31\\ud83d\\udc31\"}, {\"Distrito\": \"USERA\", \"Emojis\": \"\\ud83d\\udc31\"}, {\"Distrito\": \"VIC\\u00c1LVARO\", \"Emojis\": \"\"}, {\"Distrito\": \"VILLA DE VALLECAS\", \"Emojis\": \"\\ud83d\\udc31\"}, {\"Distrito\": \"VILLAVERDE\", \"Emojis\": \"\\ud83d\\udc31\"}, {\"Distrito\": \"ARGANZUELA\", \"Emojis\": \"\\ud83d\\udc31\"}, {\"Distrito\": \"BARAJAS\", \"Emojis\": \"\"}, {\"Distrito\": \"CARABANCHEL\", \"Emojis\": \"\\ud83d\\udc31\\ud83d\\udc31\"}, {\"Distrito\": \"CENTRO\", \"Emojis\": \"\\ud83d\\udc31\\ud83d\\udc31\\ud83d\\udc31\"}, {\"Distrito\": \"CHAMART\\u00cdN\", \"Emojis\": \"\\ud83d\\udc31\"}, {\"Distrito\": \"CHAMBER\\u00cd\", \"Emojis\": \"\\ud83d\\udc31\"}, {\"Distrito\": \"CIUDAD LINEAL\", \"Emojis\": \"\\ud83d\\udc31\\ud83d\\udc31\"}, {\"Distrito\": \"FUENCARRAL-EL PARDO\", \"Emojis\": \"\\ud83d\\udc31\\ud83d\\udc31\"}, {\"Distrito\": \"HORTALEZA\", \"Emojis\": \"\\ud83d\\udc31\\ud83d\\udc31\"}, {\"Distrito\": \"LATINA\", \"Emojis\": \"\\ud83d\\udc31\\ud83d\\udc31\\ud83d\\udc31\\ud83d\\udc31\"}, {\"Distrito\": \"MONCLOA-ARAVACA\", \"Emojis\": \"\\ud83d\\udc31\"}, {\"Distrito\": \"MORATALAZ\", \"Emojis\": \"\"}, {\"Distrito\": \"PUENTE DE VALLECAS\", \"Emojis\": \"\\ud83d\\udc31\\ud83d\\udc31\"}, {\"Distrito\": \"RETIRO\", \"Emojis\": \"\\ud83d\\udc31\"}, {\"Distrito\": \"SALAMANCA\", \"Emojis\": \"\\ud83d\\udc31\"}, {\"Distrito\": \"SAN BLAS\", \"Emojis\": \"\\ud83d\\udc31\"}, {\"Distrito\": \"TETU\\u00c1N\", \"Emojis\": \"\\ud83d\\udc31\"}, {\"Distrito\": \"USERA\", \"Emojis\": \"\\ud83d\\udc31\"}, {\"Distrito\": \"VIC\\u00c1LVARO\", \"Emojis\": \"\"}, {\"Distrito\": \"VILLA DE VALLECAS\", \"Emojis\": \"\\ud83d\\udc31\"}, {\"Distrito\": \"VILLAVERDE\", \"Emojis\": \"\"}, {\"Distrito\": \"ARGANZUELA\", \"Emojis\": \"\\ud83d\\udc31\"}, {\"Distrito\": \"BARAJAS\", \"Emojis\": \"\"}, {\"Distrito\": \"CARABANCHEL\", \"Emojis\": \"\\ud83d\\udc31\\ud83d\\udc31\"}, {\"Distrito\": \"CENTRO\", \"Emojis\": \"\\ud83d\\udc31\\ud83d\\udc31\\ud83d\\udc31\"}, {\"Distrito\": \"CHAMART\\u00cdN\", \"Emojis\": \"\\ud83d\\udc31\"}, {\"Distrito\": \"CHAMBER\\u00cd\", \"Emojis\": \"\\ud83d\\udc31\"}, {\"Distrito\": \"CIUDAD LINEAL\", \"Emojis\": \"\\ud83d\\udc31\\ud83d\\udc31\"}, {\"Distrito\": \"FUENCARRAL-EL PARDO\", \"Emojis\": \"\\ud83d\\udc31\\ud83d\\udc31\"}, {\"Distrito\": \"HORTALEZA\", \"Emojis\": \"\\ud83d\\udc31\\ud83d\\udc31\"}, {\"Distrito\": \"LATINA\", \"Emojis\": \"\\ud83d\\udc31\\ud83d\\udc31\\ud83d\\udc31\"}, {\"Distrito\": \"MONCLOA-ARAVACA\", \"Emojis\": \"\\ud83d\\udc31\"}, {\"Distrito\": \"MORATALAZ\", \"Emojis\": \"\"}, {\"Distrito\": \"PUENTE DE VALLECAS\", \"Emojis\": \"\\ud83d\\udc31\\ud83d\\udc31\"}, {\"Distrito\": \"RETIRO\", \"Emojis\": \"\\ud83d\\udc31\"}, {\"Distrito\": \"SALAMANCA\", \"Emojis\": \"\\ud83d\\udc31\"}, {\"Distrito\": \"SAN BLAS\", \"Emojis\": \"\\ud83d\\udc31\"}, {\"Distrito\": \"TETU\\u00c1N\", \"Emojis\": \"\\ud83d\\udc31\"}, {\"Distrito\": \"USERA\", \"Emojis\": \"\"}, {\"Distrito\": \"VIC\\u00c1LVARO\", \"Emojis\": \"\"}, {\"Distrito\": \"VILLA DE VALLECAS\", \"Emojis\": \"\\ud83d\\udc31\"}, {\"Distrito\": \"VILLAVERDE\", \"Emojis\": \"\"}, {\"Distrito\": \"ARGANZUELA\", \"Emojis\": \"\\ud83d\\udc31\"}, {\"Distrito\": \"BARAJAS\", \"Emojis\": \"\"}, {\"Distrito\": \"CARABANCHEL\", \"Emojis\": \"\\ud83d\\udc31\\ud83d\\udc31\"}, {\"Distrito\": \"CENTRO\", \"Emojis\": \"\\ud83d\\udc31\\ud83d\\udc31\\ud83d\\udc31\"}, {\"Distrito\": \"CHAMART\\u00cdN\", \"Emojis\": \"\\ud83d\\udc31\"}, {\"Distrito\": \"CHAMBER\\u00cd\", \"Emojis\": \"\\ud83d\\udc31\"}, {\"Distrito\": \"CIUDAD LINEAL\", \"Emojis\": \"\\ud83d\\udc31\\ud83d\\udc31\"}, {\"Distrito\": \"FUENCARRAL-EL PARDO\", \"Emojis\": \"\\ud83d\\udc31\\ud83d\\udc31\"}, {\"Distrito\": \"HORTALEZA\", \"Emojis\": \"\\ud83d\\udc31\\ud83d\\udc31\"}, {\"Distrito\": \"LATINA\", \"Emojis\": \"\\ud83d\\udc31\\ud83d\\udc31\\ud83d\\udc31\"}, {\"Distrito\": \"MONCLOA-ARAVACA\", \"Emojis\": \"\\ud83d\\udc31\"}, {\"Distrito\": \"MORATALAZ\", \"Emojis\": \"\"}, {\"Distrito\": \"PUENTE DE VALLECAS\", \"Emojis\": \"\\ud83d\\udc31\\ud83d\\udc31\"}, {\"Distrito\": \"RETIRO\", \"Emojis\": \"\\ud83d\\udc31\"}, {\"Distrito\": \"SALAMANCA\", \"Emojis\": \"\\ud83d\\udc31\"}, {\"Distrito\": \"SAN BLAS\", \"Emojis\": \"\\ud83d\\udc31\"}, {\"Distrito\": \"TETU\\u00c1N\", \"Emojis\": \"\\ud83d\\udc31\"}, {\"Distrito\": \"USERA\", \"Emojis\": \"\"}, {\"Distrito\": \"VIC\\u00c1LVARO\", \"Emojis\": \"\"}, {\"Distrito\": \"VILLA DE VALLECAS\", \"Emojis\": \"\"}, {\"Distrito\": \"VILLAVERDE\", \"Emojis\": \"\"}, {\"Distrito\": \"ARGANZUELA\", \"Emojis\": \"\\ud83d\\udc31\"}, {\"Distrito\": \"BARAJAS\", \"Emojis\": \"\"}, {\"Distrito\": \"CARABANCHEL\", \"Emojis\": \"\\ud83d\\udc31\"}, {\"Distrito\": \"CENTRO\", \"Emojis\": \"\\ud83d\\udc31\\ud83d\\udc31\"}, {\"Distrito\": \"CHAMART\\u00cdN\", \"Emojis\": \"\\ud83d\\udc31\"}, {\"Distrito\": \"CHAMBER\\u00cd\", \"Emojis\": \"\\ud83d\\udc31\"}, {\"Distrito\": \"CIUDAD LINEAL\", \"Emojis\": \"\\ud83d\\udc31\\ud83d\\udc31\"}, {\"Distrito\": \"FUENCARRAL-EL PARDO\", \"Emojis\": \"\\ud83d\\udc31\"}, {\"Distrito\": \"HORTALEZA\", \"Emojis\": \"\\ud83d\\udc31\\ud83d\\udc31\"}, {\"Distrito\": \"LATINA\", \"Emojis\": \"\\ud83d\\udc31\\ud83d\\udc31\"}, {\"Distrito\": \"MONCLOA-ARAVACA\", \"Emojis\": \"\\ud83d\\udc31\"}, {\"Distrito\": \"MORATALAZ\", \"Emojis\": \"\"}, {\"Distrito\": \"PUENTE DE VALLECAS\", \"Emojis\": \"\\ud83d\\udc31\"}, {\"Distrito\": \"RETIRO\", \"Emojis\": \"\"}, {\"Distrito\": \"SALAMANCA\", \"Emojis\": \"\\ud83d\\udc31\"}, {\"Distrito\": \"SAN BLAS\", \"Emojis\": \"\\ud83d\\udc31\"}, {\"Distrito\": \"TETU\\u00c1N\", \"Emojis\": \"\\ud83d\\udc31\"}, {\"Distrito\": \"USERA\", \"Emojis\": \"\"}, {\"Distrito\": \"VIC\\u00c1LVARO\", \"Emojis\": \"\"}, {\"Distrito\": \"VILLA DE VALLECAS\", \"Emojis\": \"\"}, {\"Distrito\": \"VILLAVERDE\", \"Emojis\": \"\"}, {\"Distrito\": \"ARGANZUELA\", \"Emojis\": \"\\ud83d\\udc31\"}, {\"Distrito\": \"BARAJAS\", \"Emojis\": \"\"}, {\"Distrito\": \"CARABANCHEL\", \"Emojis\": \"\\ud83d\\udc31\"}, {\"Distrito\": \"CENTRO\", \"Emojis\": \"\\ud83d\\udc31\\ud83d\\udc31\"}, {\"Distrito\": \"CHAMART\\u00cdN\", \"Emojis\": \"\\ud83d\\udc31\"}, {\"Distrito\": \"CHAMBER\\u00cd\", \"Emojis\": \"\\ud83d\\udc31\"}, {\"Distrito\": \"CIUDAD LINEAL\", \"Emojis\": \"\\ud83d\\udc31\\ud83d\\udc31\"}, {\"Distrito\": \"FUENCARRAL-EL PARDO\", \"Emojis\": \"\\ud83d\\udc31\"}, {\"Distrito\": \"HORTALEZA\", \"Emojis\": \"\\ud83d\\udc31\\ud83d\\udc31\"}, {\"Distrito\": \"LATINA\", \"Emojis\": \"\\ud83d\\udc31\"}, {\"Distrito\": \"MONCLOA-ARAVACA\", \"Emojis\": \"\"}, {\"Distrito\": \"MORATALAZ\", \"Emojis\": \"\"}, {\"Distrito\": \"PUENTE DE VALLECAS\", \"Emojis\": \"\\ud83d\\udc31\"}, {\"Distrito\": \"RETIRO\", \"Emojis\": \"\"}, {\"Distrito\": \"SALAMANCA\", \"Emojis\": \"\\ud83d\\udc31\"}, {\"Distrito\": \"SAN BLAS\", \"Emojis\": \"\\ud83d\\udc31\"}, {\"Distrito\": \"TETU\\u00c1N\", \"Emojis\": \"\\ud83d\\udc31\"}, {\"Distrito\": \"USERA\", \"Emojis\": \"\"}, {\"Distrito\": \"VIC\\u00c1LVARO\", \"Emojis\": \"\"}, {\"Distrito\": \"VILLA DE VALLECAS\", \"Emojis\": \"\"}, {\"Distrito\": \"VILLAVERDE\", \"Emojis\": \"\"}, {\"Distrito\": \"ARGANZUELA\", \"Emojis\": \"\\ud83d\\udc31\"}, {\"Distrito\": \"BARAJAS\", \"Emojis\": \"\"}, {\"Distrito\": \"CARABANCHEL\", \"Emojis\": \"\\ud83d\\udc31\"}, {\"Distrito\": \"CENTRO\", \"Emojis\": \"\\ud83d\\udc31\\ud83d\\udc31\"}, {\"Distrito\": \"CHAMART\\u00cdN\", \"Emojis\": \"\"}, {\"Distrito\": \"CHAMBER\\u00cd\", \"Emojis\": \"\"}, {\"Distrito\": \"CIUDAD LINEAL\", \"Emojis\": \"\\ud83d\\udc31\"}, {\"Distrito\": \"FUENCARRAL-EL PARDO\", \"Emojis\": \"\\ud83d\\udc31\"}, {\"Distrito\": \"HORTALEZA\", \"Emojis\": \"\\ud83d\\udc31\\ud83d\\udc31\"}, {\"Distrito\": \"LATINA\", \"Emojis\": \"\\ud83d\\udc31\"}, {\"Distrito\": \"MONCLOA-ARAVACA\", \"Emojis\": \"\"}, {\"Distrito\": \"MORATALAZ\", \"Emojis\": \"\"}, {\"Distrito\": \"PUENTE DE VALLECAS\", \"Emojis\": \"\\ud83d\\udc31\"}, {\"Distrito\": \"RETIRO\", \"Emojis\": \"\"}, {\"Distrito\": \"SALAMANCA\", \"Emojis\": \"\\ud83d\\udc31\"}, {\"Distrito\": \"SAN BLAS\", \"Emojis\": \"\\ud83d\\udc31\"}, {\"Distrito\": \"TETU\\u00c1N\", \"Emojis\": \"\\ud83d\\udc31\"}, {\"Distrito\": \"USERA\", \"Emojis\": \"\"}, {\"Distrito\": \"VIC\\u00c1LVARO\", \"Emojis\": \"\"}, {\"Distrito\": \"VILLA DE VALLECAS\", \"Emojis\": \"\"}, {\"Distrito\": \"VILLAVERDE\", \"Emojis\": \"\"}, {\"Distrito\": \"ARGANZUELA\", \"Emojis\": \"\"}, {\"Distrito\": \"BARAJAS\", \"Emojis\": \"\"}, {\"Distrito\": \"CARABANCHEL\", \"Emojis\": \"\"}, {\"Distrito\": \"CENTRO\", \"Emojis\": \"\\ud83d\\udc31\"}, {\"Distrito\": \"CHAMART\\u00cdN\", \"Emojis\": \"\"}, {\"Distrito\": \"CHAMBER\\u00cd\", \"Emojis\": \"\"}, {\"Distrito\": \"CIUDAD LINEAL\", \"Emojis\": \"\\ud83d\\udc31\"}, {\"Distrito\": \"FUENCARRAL-EL PARDO\", \"Emojis\": \"\"}, {\"Distrito\": \"HORTALEZA\", \"Emojis\": \"\\ud83d\\udc31\"}, {\"Distrito\": \"LATINA\", \"Emojis\": \"\"}, {\"Distrito\": \"MONCLOA-ARAVACA\", \"Emojis\": \"\"}, {\"Distrito\": \"MORATALAZ\", \"Emojis\": \"\"}, {\"Distrito\": \"PUENTE DE VALLECAS\", \"Emojis\": \"\"}, {\"Distrito\": \"RETIRO\", \"Emojis\": \"\"}, {\"Distrito\": \"SALAMANCA\", \"Emojis\": \"\"}, {\"Distrito\": \"SAN BLAS\", \"Emojis\": \"\"}, {\"Distrito\": \"TETU\\u00c1N\", \"Emojis\": \"\"}, {\"Distrito\": \"USERA\", \"Emojis\": \"\"}, {\"Distrito\": \"VIC\\u00c1LVARO\", \"Emojis\": \"\"}, {\"Distrito\": \"VILLA DE VALLECAS\", \"Emojis\": \"\"}, {\"Distrito\": \"VILLAVERDE\", \"Emojis\": \"\"}, {\"Distrito\": \"ARGANZUELA\", \"Emojis\": \"\"}, {\"Distrito\": \"BARAJAS\", \"Emojis\": \"\"}, {\"Distrito\": \"CARABANCHEL\", \"Emojis\": \"\"}, {\"Distrito\": \"CENTRO\", \"Emojis\": \"\\ud83d\\udc31\"}, {\"Distrito\": \"CHAMART\\u00cdN\", \"Emojis\": \"\"}, {\"Distrito\": \"CHAMBER\\u00cd\", \"Emojis\": \"\"}, {\"Distrito\": \"CIUDAD LINEAL\", \"Emojis\": \"\\ud83d\\udc31\"}, {\"Distrito\": \"FUENCARRAL EL PARDO\", \"Emojis\": \"\"}, {\"Distrito\": \"HORTALEZA\", \"Emojis\": \"\\ud83d\\udc31\"}, {\"Distrito\": \"LATINA\", \"Emojis\": \"\"}, {\"Distrito\": \"MONCLOA-ARAVACA\", \"Emojis\": \"\"}, {\"Distrito\": \"MORATALAZ\", \"Emojis\": \"\"}, {\"Distrito\": \"PUENTE DE VALLECAS\", \"Emojis\": \"\"}, {\"Distrito\": \"RETIRO\", \"Emojis\": \"\"}, {\"Distrito\": \"SALAMANCA\", \"Emojis\": \"\"}, {\"Distrito\": \"SAN BLAS\", \"Emojis\": \"\"}, {\"Distrito\": \"TETU\\u00c1N\", \"Emojis\": \"\"}, {\"Distrito\": \"USERA\", \"Emojis\": \"\"}, {\"Distrito\": \"VIC\\u00c1LVARO\", \"Emojis\": \"\"}, {\"Distrito\": \"VILLA DE VALLECAS\", \"Emojis\": \"\"}, {\"Distrito\": \"VILLAVERDE\", \"Emojis\": \"\"}], \"data-bdb6ee98d834cff030b77d3cde3b158d\": [{\"x\": 0, \"y\": 0, \"text\": \"Cada emoji representa 3000 mascotas\"}]}}, {\"mode\": \"vega-lite\"});\n",
       "</script>"
      ],
      "text/plain": [
       "alt.LayerChart(...)"
      ]
     },
     "metadata": {},
     "output_type": "display_data"
    }
   ],
   "source": [
    "import altair as alt\n",
    "\n",
    "frecuencia = 3000 # Uso esta frecuencia para decidir cada cuantos animales se dibuja el emoji\n",
    "data['Emojis_Perros'] = data.apply(lambda row: '🐶' * (row['Perros'] // frecuencia), axis=1)\n",
    "data['Emojis_Gatos'] = data.apply(lambda row: '🐱' * (row['Gatos'] // frecuencia), axis=1)\n",
    "\n",
    "\n",
    "emojis_data = pd.concat([data[['Distrito', 'Emojis_Perros']].rename(columns={'Emojis_Perros': 'Emojis'}),\n",
    "                         data[['Distrito', 'Emojis_Gatos']].rename(columns={'Emojis_Gatos': 'Emojis'})])\n",
    "\n",
    "\n",
    "chart = alt.Chart(emojis_data).mark_text(\n",
    "    fontSize=20,\n",
    "    align='left',\n",
    "    baseline='middle',\n",
    "    dx=-100\n",
    ").encode(\n",
    "    y='Distrito:N',\n",
    "    text='Emojis:N'\n",
    ").properties(\n",
    "    width=200,\n",
    "    height=400,\n",
    "    title='Isotype Chart: Perros y gatos por distrito'\n",
    ")\n",
    "\n",
    "# Muestro tambien la frecuencia con la que se esta dibujando cada emoji\n",
    "text = alt.Chart(pd.DataFrame({'x': [0], 'y': [0], 'text': [f'Cada emoji representa {frecuencia} mascotas']})).mark_text(\n",
    "    align='left',\n",
    "    baseline='middle',\n",
    "    fontSize=12\n",
    ").encode(\n",
    "    x=alt.value(100),\n",
    "    y=alt.value(420),\n",
    "    text='text'\n",
    ")\n",
    "\n",
    "chart_with_text = (chart + text).configure_title(fontSize=14)\n",
    "chart_with_text.show()\n"
   ]
  }
 ],
 "metadata": {
  "kernelspec": {
   "display_name": "Python 3",
   "language": "python",
   "name": "python3"
  },
  "language_info": {
   "codemirror_mode": {
    "name": "ipython",
    "version": 3
   },
   "file_extension": ".py",
   "mimetype": "text/x-python",
   "name": "python",
   "nbconvert_exporter": "python",
   "pygments_lexer": "ipython3",
   "version": "3.11.9"
  }
 },
 "nbformat": 4,
 "nbformat_minor": 2
}
